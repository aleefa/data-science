{
 "cells": [
  {
   "cell_type": "code",
   "execution_count": 6,
   "id": "8ee65012-dfdd-4ef1-9c00-e72606549ec5",
   "metadata": {},
   "outputs": [
    {
     "name": "stdout",
     "output_type": "stream",
     "text": [
      "Addition:\n",
      "[[ 6  8]\n",
      " [10 12]]\n",
      "\n",
      "Substraction:\n",
      "[[-4 -4]\n",
      " [-4 -4]]\n",
      "\n",
      "Element-wise Multiplication:\n",
      "[[ 5 12]\n",
      " [21 32]]\n",
      "\n",
      "Matrix Multiplication:\n",
      "[[19 22]\n",
      " [43 50]]\n",
      "\n",
      "Transpose:\n",
      "[[1 3]\n",
      " [2 4]]\n",
      "Original matrix:\n",
      "[[1 2 3]\n",
      " [4 5 6]\n",
      " [7 8 9]]\n",
      "\n",
      " reconstructed the matrix (with reduced dimensions):\n",
      "[[1. 2. 3.]\n",
      " [4. 5. 6.]\n",
      " [7. 8. 9.]]\n"
     ]
    }
   ],
   "source": [
    "#example of basic matrix operation using NumPy\n",
    "import numpy as np\n",
    "#create matrices\n",
    "A=np.array([[1,2],[3,4]])\n",
    "B=np.array([[5,6],[7,8]])\n",
    "#addition\n",
    "C=A+B\n",
    "#substraction\n",
    "D=A-B\n",
    "#multiplication (element-wise)\n",
    "E=A*B\n",
    "#matrix multiplication\n",
    "F=np.dot(A,B) # A@B\n",
    "#transpose\n",
    "A_transpose=A.T\n",
    "print(\"Addition:\")\n",
    "print(C)\n",
    "print(\"\\nSubstraction:\")\n",
    "print(D)\n",
    "print(\"\\nElement-wise Multiplication:\")\n",
    "print(E)\n",
    "print(\"\\nMatrix Multiplication:\")\n",
    "print(F)\n",
    "print(\"\\nTranspose:\")\n",
    "print(A_transpose)\n",
    "\n",
    "\n",
    "\n",
    "\n",
    "\n",
    "#with SVD\n",
    "import numpy as np\n",
    "#create a sample matrix\n",
    "X=np.array([[1,2,3],[4,5,6],[7,8,9]])\n",
    "#perform SVD\n",
    "U,S,VT =np.linalg.svd(X)\n",
    "#choose number of components to keep\n",
    "n_components=2\n",
    "#reconstruct the matrix with reduced dimensions\n",
    "X_reconstructed =np.dot(U[:, :n_components],np.dot(np.diag(S[:n_components]),VT[:n_components, :]))\n",
    "print(\"Original matrix:\")\n",
    "print(X)\n",
    "print(\"\\n reconstructed the matrix (with reduced dimensions):\")\n",
    "print(X_reconstructed)\n"
   ]
  },
  {
   "cell_type": "code",
   "execution_count": null,
   "id": "93e76a40-8e3e-41e2-8cb7-6c210670e2e2",
   "metadata": {},
   "outputs": [],
   "source": []
  }
 ],
 "metadata": {
  "kernelspec": {
   "display_name": "Python 3 (ipykernel)",
   "language": "python",
   "name": "python3"
  },
  "language_info": {
   "codemirror_mode": {
    "name": "ipython",
    "version": 3
   },
   "file_extension": ".py",
   "mimetype": "text/x-python",
   "name": "python",
   "nbconvert_exporter": "python",
   "pygments_lexer": "ipython3",
   "version": "3.10.12"
  }
 },
 "nbformat": 4,
 "nbformat_minor": 5
}
