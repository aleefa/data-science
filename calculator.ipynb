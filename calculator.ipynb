{
 "cells": [
  {
   "cell_type": "code",
   "execution_count": 1,
   "id": "6807c967-ea52-4efc-bd26-91735b60ad82",
   "metadata": {},
   "outputs": [
    {
     "name": "stdin",
     "output_type": "stream",
     "text": [
      "Enter the 1st number: 2\n",
      "Enter the 2nd number: 1\n"
     ]
    },
    {
     "name": "stdout",
     "output_type": "stream",
     "text": [
      "Select the operation to perform:\n",
      "1.Addition\n",
      "2.Substract\n",
      "3.Multiplication\n",
      "4.Division\n"
     ]
    },
    {
     "name": "stdin",
     "output_type": "stream",
     "text": [
      "Enter the choice: 1\n"
     ]
    },
    {
     "name": "stdout",
     "output_type": "stream",
     "text": [
      "Addition:3.00\n"
     ]
    }
   ],
   "source": [
    "num1=float(input(\"Enter the 1st number:\"))\n",
    "num2=float(input(\"Enter the 2nd number:\"))\n",
    "print(\"Select the operation to perform:\")\n",
    "print(\"1.Addition\")\n",
    "print(\"2.Substract\")\n",
    "print(\"3.Multiplication\")\n",
    "print(\"4.Division\")\n",
    "choice=int(input(\"Enter the choice:\"))\n",
    "if(choice==1):\n",
    " print(\"Addition:%.2f\" %(num1+num2))\n",
    "elif(choice==2):\n",
    " print(\"Substract:%.2f\" %(num1-num2))\n",
    "elif(choice==3):\n",
    " print(\"Multiplication:%.2f\" %(num1*num2))\n",
    "elif(choice==4 ):\n",
    "    if num2==0:\n",
    "         print(\"\\ncannot be divisible by zero\")\n",
    "    else: \n",
    "        print(\"Division:%.2f\" %(num1/num2))\n",
    " \n",
    "else:\n",
    "    print(\"invalid!\")\n",
    "\n",
    "\n",
    "                "
   ]
  },
  {
   "cell_type": "code",
   "execution_count": null,
   "id": "57af1113-f5e2-4698-8587-73bfa73af35b",
   "metadata": {},
   "outputs": [],
   "source": []
  }
 ],
 "metadata": {
  "kernelspec": {
   "display_name": "Python 3 (ipykernel)",
   "language": "python",
   "name": "python3"
  },
  "language_info": {
   "codemirror_mode": {
    "name": "ipython",
    "version": 3
   },
   "file_extension": ".py",
   "mimetype": "text/x-python",
   "name": "python",
   "nbconvert_exporter": "python",
   "pygments_lexer": "ipython3",
   "version": "3.10.12"
  }
 },
 "nbformat": 4,
 "nbformat_minor": 5
}
